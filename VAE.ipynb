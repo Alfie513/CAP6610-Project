{
 "cells": [
  {
   "cell_type": "code",
   "execution_count": 7,
   "metadata": {},
   "outputs": [],
   "source": [
    "import os\n",
    "import torch\n",
    "import torch.nn as nn\n",
    "import torch.nn.functional as F\n",
    "import torchvision\n",
    "from torchvision import transforms\n",
    "from torchvision.utils import save_image"
   ]
  },
  {
   "cell_type": "code",
   "execution_count": 8,
   "metadata": {},
   "outputs": [],
   "source": [
    "#parameter\n",
    "sizeImage = 784\n",
    "h_dim = 400\n",
    "z_dim = 20\n",
    "epochsNum = 50 #number of epochs\n",
    "batch_size = 100\n",
    "lr = 0.01\n",
    "\n",
    "sampleLocation = 'samplesOfVAE'\n",
    "if not os.path.exists(sampleLocation):\n",
    "    os.makedirs(sampleLocation)\n",
    "    \n",
    "torch.cuda.set_device(0)\n",
    "device = torch.device('cuda' if torch.cuda.is_available() else 'cpu')"
   ]
  },
  {
   "cell_type": "code",
   "execution_count": 9,
   "metadata": {},
   "outputs": [],
   "source": [
    "#download MNIST\n",
    "dataset =torchvision.datasets.MNIST(root='dataMNIST', train=True, transform=transforms.ToTensor(), download=True)#If already downloaded, download=False\n",
    "data_loader = torch.utils.data.DataLoader(dataset=dataset, batch_size=batch_size,shuffle=True)"
   ]
  },
  {
   "cell_type": "code",
   "execution_count": 10,
   "metadata": {},
   "outputs": [],
   "source": [
    "class VAE(nn.Module):\n",
    "    def __init__(self,sizeImage=784, h_dim=400, z_dim=20):\n",
    "        super(VAE, self).__init__()\n",
    "        self.fc1=nn.Linear(sizeImage, h_dim)\n",
    "        self.fc2=nn.Linear(h_dim, z_dim)\n",
    "        self.fc3=nn.Linear(h_dim, z_dim)\n",
    "        self.fc4=nn.Linear(z_dim, h_dim)\n",
    "        self.fc5=nn.Linear(h_dim, sizeImage)\n",
    "    \n",
    "    def encode(self, x):\n",
    "        h=F.relu(self.fc1(x))\n",
    "        return self.fc2(h),self.fc3(h)\n",
    "\n",
    "    def decode(self, z):\n",
    "        h=F.relu(self.fc4(z))\n",
    "        return F.sigmoid(self.fc5(h))\n",
    "    \n",
    "    def forward(self, x):\n",
    "        mu, log_var =self.encode(x)\n",
    "        std = torch.exp(log_var/2)\n",
    "        eps = torch.randn_like(std)\n",
    "        z = mu +eps *std\n",
    "        x_reconst =self.decode(z)\n",
    "        return x_reconst, mu, log_var"
   ]
  },
  {
   "cell_type": "code",
   "execution_count": 11,
   "metadata": {},
   "outputs": [],
   "source": [
    "model = VAE().to(device)\n",
    "optimizer =torch.optim.Adam(model.parameters(), lr=lr)"
   ]
  },
  {
   "cell_type": "code",
   "execution_count": 12,
   "metadata": {},
   "outputs": [
    {
     "name": "stderr",
     "output_type": "stream",
     "text": [
      "D:\\Software\\Anaconda3\\lib\\site-packages\\torch\\nn\\functional.py:1625: UserWarning: nn.functional.sigmoid is deprecated. Use torch.sigmoid instead.\n",
      "  warnings.warn(\"nn.functional.sigmoid is deprecated. Use torch.sigmoid instead.\")\n",
      "D:\\Software\\Anaconda3\\lib\\site-packages\\torch\\nn\\_reduction.py:44: UserWarning: size_average and reduce args will be deprecated, please use reduction='sum' instead.\n",
      "  warnings.warn(warning.format(ret))\n"
     ]
    },
    {
     "name": "stdout",
     "output_type": "stream",
     "text": [
      "Epoch[1/2], Step [100/600], reconst_loss: 15381.2070, kl_div: 1276.9407\n",
      "Epoch[1/2], Step [200/600], reconst_loss: 12712.6113, kl_div: 1462.7153\n",
      "Epoch[1/2], Step [300/600], reconst_loss: 12302.5059, kl_div: 1429.1528\n",
      "Epoch[1/2], Step [400/600], reconst_loss: 12068.9023, kl_div: 1577.8577\n",
      "Epoch[1/2], Step [500/600], reconst_loss: 11372.7441, kl_div: 1701.8625\n",
      "Epoch[1/2], Step [600/600], reconst_loss: 10640.4414, kl_div: 1641.7629\n",
      "Epoch[2/2], Step [100/600], reconst_loss: 10502.5654, kl_div: 1719.1991\n",
      "Epoch[2/2], Step [200/600], reconst_loss: 10154.3447, kl_div: 1705.4841\n",
      "Epoch[2/2], Step [300/600], reconst_loss: 10430.1143, kl_div: 1712.0306\n",
      "Epoch[2/2], Step [400/600], reconst_loss: 10659.3516, kl_div: 1779.5876\n",
      "Epoch[2/2], Step [500/600], reconst_loss: 10493.8721, kl_div: 1766.5500\n",
      "Epoch[2/2], Step [600/600], reconst_loss: 10262.7695, kl_div: 1783.9532\n"
     ]
    }
   ],
   "source": [
    "for epoch in range(epochsNum):\n",
    "    model.train()\n",
    "    for i, (x, _) in enumerate(data_loader):\n",
    "        # forward\n",
    "        model.zero_grad()\n",
    "        x = x.to(device).view(-1, sizeImage)\n",
    "        x_reconst, mu, log_var = model(x)\n",
    "        \n",
    "        # Compute reconstruction loss and kl divergence\n",
    "        reconst_loss = F.binary_cross_entropy(x_reconst, x, size_average=False)\n",
    "        kl_div = - 0.5 * torch.sum(1 + log_var - mu.pow(2) - log_var.exp())\n",
    "        \n",
    "        # backward\n",
    "        loss = reconst_loss + kl_div\n",
    "        optimizer.zero_grad()\n",
    "        loss.backward()\n",
    "        optimizer.step()\n",
    "        \n",
    "        if (i+1) % 100 == 0:\n",
    "            print (\"Epoch[{}/{}], Step [{}/{}], reconst_loss: {:.4f}, kl_div: {:.4f}\" \n",
    "                   .format(epoch+1, epochsNum, i+1, len(data_loader), reconst_loss.item(), kl_div.item()))\n",
    "    \n",
    "    with torch.no_grad():\n",
    "        # save sample image\n",
    "        z = torch.randn(batch_size, z_dim).to(device)\n",
    "        out = model.decode(z).view(-1, 1, 28, 28)\n",
    "        save_image(out, os.path.join(sampleLocation, 'sampled-{}.png'.format(epoch+1)))\n",
    "\n",
    "        # save reconstructed image\n",
    "        out, _, _ = model(x)\n",
    "        x_concat = torch.cat([x.view(-1, 1, 28, 28), out.view(-1, 1, 28, 28)], dim=3)\n",
    "        save_image(x_concat, os.path.join(sampleLocation, 'reconst-{}.png'.format(epoch+1)))"
   ]
  }
 ],
 "metadata": {
  "kernelspec": {
   "display_name": "Python 3",
   "language": "python",
   "name": "python3"
  },
  "language_info": {
   "codemirror_mode": {
    "name": "ipython",
    "version": 3
   },
   "file_extension": ".py",
   "mimetype": "text/x-python",
   "name": "python",
   "nbconvert_exporter": "python",
   "pygments_lexer": "ipython3",
   "version": "3.7.4"
  }
 },
 "nbformat": 4,
 "nbformat_minor": 2
}
