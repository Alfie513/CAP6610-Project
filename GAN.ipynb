{
 "cells": [
  {
   "cell_type": "code",
   "execution_count": 15,
   "metadata": {},
   "outputs": [],
   "source": [
    "import os\n",
    "import torch\n",
    "import torchvision\n",
    "import torch.nn as nn\n",
    "from torchvision import transforms\n",
    "from torchvision.utils import save_image\n",
    "\n",
    "torch.cuda.set_device(0) # set pytorch running on GPU0\n",
    "device = torch.device('cuda' if torch.cuda.is_available() else 'cpu')\n",
    "\n",
    "#parameters\n",
    "sizeImage = 784\n",
    "Z_size = 64\n",
    "sizeHidden = 256\n",
    "batch_size = 100\n",
    "epochsNum = 100 #number of epochs\n",
    "\n",
    "sampleLocation = 'samplesOfGAN'\n",
    "if not os.path.exists(sampleLocation):\n",
    "    os.makedirs(sampleLocation)"
   ]
  },
  {
   "cell_type": "code",
   "execution_count": null,
   "metadata": {},
   "outputs": [],
   "source": [
    "# Download MNIST dataset\n",
    "trans = transforms.Compose([transforms.ToTensor(),transforms.Normalize([0.5], [0.5])]) # Image processing\n",
    "mnist = torchvision.datasets.MNIST(root='dataMNIST',train=True,transform=trans,download=True)#If already downloaded, download=False\n",
    "data_loader = torch.utils.data.DataLoader(dataset=mnist,batch_size=batch_size, shuffle=True)"
   ]
  },
  {
   "cell_type": "code",
   "execution_count": 16,
   "metadata": {},
   "outputs": [],
   "source": [
    "# Construct Discriminator\n",
    "Discriminator = nn.Sequential(\n",
    "    nn.Linear(sizeImage, sizeHidden),\n",
    "    nn.LeakyReLU(0.2),\n",
    "    nn.Linear(sizeHidden, sizeHidden),\n",
    "    nn.LeakyReLU(0.2),\n",
    "    nn.Linear(sizeHidden, 1),\n",
    "    nn.Sigmoid())\n",
    "Discriminator = Discriminator.to(device)\n",
    "\n",
    "# Construct Generator\n",
    "Generator = nn.Sequential(\n",
    "    nn.Linear(Z_size, sizeHidden),\n",
    "    nn.ReLU(),\n",
    "    nn.Linear(sizeHidden, sizeHidden),\n",
    "    nn.ReLU(),\n",
    "    nn.Linear(sizeHidden, sizeImage),\n",
    "    nn.Tanh())\n",
    "Generator = Generator.to(device)"
   ]
  },
  {
   "cell_type": "code",
   "execution_count": 17,
   "metadata": {},
   "outputs": [],
   "source": [
    "# Define criterion and optimizer\n",
    "criterion = nn.BCELoss()\n",
    "d_optimizer = torch.optim.Adam(Discriminator.parameters(), lr=0.0002)\n",
    "g_optimizer = torch.optim.Adam(Generator.parameters(), lr=0.0002)\n",
    "\n",
    "#\n",
    "def ImageNormalize(x):\n",
    "    out = (x + 1) / 2\n",
    "    return out.clamp(0, 1)"
   ]
  },
  {
   "cell_type": "code",
   "execution_count": 18,
   "metadata": {},
   "outputs": [
    {
     "name": "stdout",
     "output_type": "stream",
     "text": [
      "Epoch [0/2], Step [100/600], d_loss: 0.2846, g_loss: 2.5114, real_score: 0.94, fake_score: 0.20\n",
      "Epoch [0/2], Step [200/600], d_loss: 0.0556, g_loss: 3.9674, real_score: 0.99, fake_score: 0.05\n",
      "Epoch [0/2], Step [300/600], d_loss: 0.5458, g_loss: 2.5319, real_score: 0.80, fake_score: 0.24\n",
      "Epoch [0/2], Step [400/600], d_loss: 0.0310, g_loss: 5.7486, real_score: 1.00, fake_score: 0.03\n",
      "Epoch [0/2], Step [500/600], d_loss: 0.0188, g_loss: 6.3908, real_score: 0.99, fake_score: 0.01\n",
      "Epoch [0/2], Step [600/600], d_loss: 0.0845, g_loss: 4.3738, real_score: 0.97, fake_score: 0.05\n",
      "Epoch [1/2], Step [100/600], d_loss: 0.0597, g_loss: 4.8717, real_score: 0.98, fake_score: 0.03\n",
      "Epoch [1/2], Step [200/600], d_loss: 0.0564, g_loss: 4.9853, real_score: 0.98, fake_score: 0.03\n",
      "Epoch [1/2], Step [300/600], d_loss: 0.1076, g_loss: 4.2582, real_score: 0.97, fake_score: 0.07\n",
      "Epoch [1/2], Step [400/600], d_loss: 0.2820, g_loss: 5.6203, real_score: 0.91, fake_score: 0.11\n",
      "Epoch [1/2], Step [500/600], d_loss: 0.1992, g_loss: 5.0302, real_score: 0.93, fake_score: 0.07\n",
      "Epoch [1/2], Step [600/600], d_loss: 0.1649, g_loss: 4.5917, real_score: 0.95, fake_score: 0.09\n"
     ]
    }
   ],
   "source": [
    "for epoch in range(epochsNum):\n",
    "    for i, (images, _) in enumerate(data_loader):\n",
    "        images = images.reshape(batch_size, -1).to(device)\n",
    "        \n",
    "        real_labels = torch.ones(batch_size, 1).to(device)\n",
    "        fake_labels = torch.zeros(batch_size, 1).to(device)\n",
    "\n",
    "        ######### Discriminator training#########\n",
    "\n",
    "        # Loss function\n",
    "        outputs = Discriminator(images)\n",
    "        d_loss_real = criterion(outputs, real_labels)\n",
    "        real_score = outputs\n",
    "        z = torch.randn(batch_size, Z_size).to(device)\n",
    "        fake_images = Generator(z)\n",
    "        outputs = Discriminator(fake_images)\n",
    "        d_loss_fake = criterion(outputs, fake_labels)\n",
    "        fake_score = outputs        \n",
    "        d_loss = d_loss_real + d_loss_fake #Total loss\n",
    "        \n",
    "        #Backward       \n",
    "        d_optimizer.zero_grad()\n",
    "        g_optimizer.zero_grad()\n",
    "        d_loss.backward()\n",
    "        d_optimizer.step()\n",
    "        \n",
    "        ######### Generator training#########\n",
    "\n",
    "        # Loss function\n",
    "        z = torch.randn(batch_size, Z_size).to(device)\n",
    "        fake_images = Generator(z)\n",
    "        outputs = Discriminator(fake_images)\n",
    "        g_loss = criterion(outputs, real_labels)\n",
    "        \n",
    "        #Backward \n",
    "        d_optimizer.zero_grad()\n",
    "        g_optimizer.zero_grad()\n",
    "        g_loss.backward()\n",
    "        g_optimizer.step()\n",
    "        \n",
    "        if (i+1) % 100 == 0:\n",
    "            print('Epoch [{}/{}], Step [{}/{}], d_loss: {:.4f}, g_loss: {:.4f}, real_score: {:.2f}, fake_score: {:.2f}' \n",
    "                  .format(epoch, epochsNum, i+1, len(data_loader), d_loss.item(), g_loss.item(), \n",
    "                          real_score.mean().item(), fake_score.mean().item()))\n",
    "    \n",
    "    # Save real_image\n",
    "    if (epoch+1) == 1:\n",
    "        images = images.reshape(images.size(0), 1, 28, 28)\n",
    "        save_image(ImageNormalize(images), os.path.join(sampleLocation, 'real_images.png'))\n",
    "    \n",
    "    # Save fake_image\n",
    "    fake_images = fake_images.reshape(fake_images.size(0), 1, 28, 28)\n",
    "    save_image(ImageNormalize(fake_images), os.path.join(sampleLocation, 'fake_images-{}.png'.format(epoch+1)))\n",
    "\n",
    "# save model\n",
    "torch.save(Generator.state_dict(), 'Generator.ckpt')\n",
    "torch.save(Discriminator.state_dict(), 'Discriminator.ckpt')"
   ]
  }
 ],
 "metadata": {
  "kernelspec": {
   "display_name": "Python 3",
   "language": "python",
   "name": "python3"
  },
  "language_info": {
   "codemirror_mode": {
    "name": "ipython",
    "version": 3
   },
   "file_extension": ".py",
   "mimetype": "text/x-python",
   "name": "python",
   "nbconvert_exporter": "python",
   "pygments_lexer": "ipython3",
   "version": "3.7.4"
  }
 },
 "nbformat": 4,
 "nbformat_minor": 2
}
